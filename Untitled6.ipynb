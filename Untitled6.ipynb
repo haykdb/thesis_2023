{
 "cells": [
  {
   "cell_type": "code",
   "execution_count": 1,
   "id": "0dbc4baa",
   "metadata": {},
   "outputs": [],
   "source": [
    "import pandas as pd\n",
    "import numpy as np\n",
    "import os.path as op\n",
    "import tensorflow as tf\n",
    "import os\n",
    "IMAGE_WIDTH = {5: 15, 20: 60, 60: 180}\n",
    "IMAGE_HEIGHT = {5: 32, 20: 64, 60: 96}        "
   ]
  },
  {
   "cell_type": "code",
   "execution_count": 17,
   "id": "3770e9ba",
   "metadata": {},
   "outputs": [
    {
     "name": "stdout",
     "output_type": "stream",
     "text": [
      "(275862, 64, 60)\n",
      "(275862, 8)\n"
     ]
    }
   ],
   "source": [
    "year_list = np.arange(2000,2003,1)\n",
    "\n",
    "wd = r\"C:\\Users\\hayk.darbinyan\\codes\\my_Venvs\\_venv-310-jupyter\\Thesis\\monthly_20d\"\n",
    "\n",
    "images = []\n",
    "label_df = []\n",
    "for year in year_list:\n",
    "    images.append(np.memmap(os.path.join(wd, f\"20d_month_has_vb_[20]_ma_{year}_images.dat\"), dtype=np.uint8, mode='r').reshape(\n",
    "                        (-1, IMAGE_HEIGHT[20], IMAGE_WIDTH[20])))\n",
    "    label_df.append(pd.read_feather(os.path.join(wd, f\"20d_month_has_vb_[20]_ma_{year}_labels_w_delay.feather\")))\n",
    "    \n",
    "images = np.concatenate(images)\n",
    "label_df = pd.concat(label_df)\n",
    "\n",
    "print(images.shape)\n",
    "print(label_df.shape)"
   ]
  },
  {
   "cell_type": "code",
   "execution_count": 18,
   "id": "717d13b6",
   "metadata": {},
   "outputs": [
    {
     "name": "stdout",
     "output_type": "stream",
     "text": [
      "(275862, 64, 60)\n"
     ]
    }
   ],
   "source": [
    "print(images.shape)\n",
    "k = 200000\n",
    "train = images[:k]\n",
    "test = images[k:]\n",
    "train = tf.expand_dims(train, axis=-1)\n",
    "test = tf.expand_dims(test, axis = -1)\n"
   ]
  },
  {
   "cell_type": "code",
   "execution_count": 19,
   "id": "21d8f795",
   "metadata": {},
   "outputs": [],
   "source": [
    "# label_df = pd.read_feather(op.join(\"./monthly_20d\", f\"20d_month_has_vb_[20]_ma_{year}_labels_w_delay.feather\"))\n",
    "# label_df.head()"
   ]
  },
  {
   "cell_type": "code",
   "execution_count": 20,
   "id": "39531469",
   "metadata": {},
   "outputs": [
    {
     "name": "stderr",
     "output_type": "stream",
     "text": [
      "C:\\Users\\hayk.darbinyan\\AppData\\Local\\Temp\\ipykernel_11676\\3235027924.py:2: SettingWithCopyWarning: \n",
      "A value is trying to be set on a copy of a slice from a DataFrame\n",
      "\n",
      "See the caveats in the documentation: https://pandas.pydata.org/pandas-docs/stable/user_guide/indexing.html#returning-a-view-versus-a-copy\n",
      "  label_20[label_20 > 0] = 1\n",
      "C:\\Users\\hayk.darbinyan\\AppData\\Local\\Temp\\ipykernel_11676\\3235027924.py:3: SettingWithCopyWarning: \n",
      "A value is trying to be set on a copy of a slice from a DataFrame\n",
      "\n",
      "See the caveats in the documentation: https://pandas.pydata.org/pandas-docs/stable/user_guide/indexing.html#returning-a-view-versus-a-copy\n",
      "  label_20[label_20 <= 0] = 0\n"
     ]
    }
   ],
   "source": [
    "label_20 = label_df['Ret_20d']\n",
    "label_20[label_20 > 0] = 1\n",
    "label_20[label_20 <= 0] = 0\n",
    "label_train = label_20[:k]\n",
    "label_test = label_20[k:]"
   ]
  },
  {
   "cell_type": "code",
   "execution_count": 21,
   "id": "d907d420",
   "metadata": {},
   "outputs": [],
   "source": [
    "train_new = []\n",
    "label_train_new = []\n",
    "\n",
    "for i, j in zip(train, label_train):\n",
    "    if np.isnan(j):\n",
    "        pass\n",
    "    else:\n",
    "        train_new.append(i)\n",
    "        label_train_new.append(j)\n",
    "        \n",
    "test_new = []\n",
    "label_test_new = []\n",
    "\n",
    "for k, m in zip(test, label_test):\n",
    "    if np.isnan(m):\n",
    "        pass\n",
    "    else:\n",
    "        test_new.append(k)\n",
    "        label_test_new.append(m)\n",
    "        \n",
    "train_new = np.array(train_new)\n",
    "test_new = np.array(test_new)\n",
    "label_train_new = np.array(label_train_new)\n",
    "label_test_new = np.array(label_test_new)\n"
   ]
  },
  {
   "cell_type": "code",
   "execution_count": 22,
   "id": "80b6536f",
   "metadata": {},
   "outputs": [
    {
     "data": {
      "text/plain": [
       "(array([], dtype=int64),)"
      ]
     },
     "execution_count": 22,
     "metadata": {},
     "output_type": "execute_result"
    }
   ],
   "source": [
    "np.where(np.isnan(np.array(label_train_new)))"
   ]
  },
  {
   "cell_type": "code",
   "execution_count": 23,
   "id": "a53153cb",
   "metadata": {},
   "outputs": [],
   "source": [
    "train_dataset = tf.data.Dataset.from_tensor_slices((train_new, label_train_new))\n",
    "test_dataset = tf.data.Dataset.from_tensor_slices((test_new, label_test_new))"
   ]
  },
  {
   "cell_type": "code",
   "execution_count": 24,
   "id": "e1627fca",
   "metadata": {},
   "outputs": [],
   "source": [
    "BATCH_SIZE = 1024\n",
    "SHUFFLE_BUFFER_SIZE = 300000\n",
    "\n",
    "train_dataset = train_dataset.shuffle(SHUFFLE_BUFFER_SIZE).batch(BATCH_SIZE)\n",
    "test_dataset = test_dataset.shuffle(SHUFFLE_BUFFER_SIZE).batch(BATCH_SIZE)"
   ]
  },
  {
   "cell_type": "code",
   "execution_count": 25,
   "id": "67a29282",
   "metadata": {},
   "outputs": [
    {
     "name": "stdout",
     "output_type": "stream",
     "text": [
      "Model: \"sequential_4\"\n",
      "_________________________________________________________________\n",
      "Layer (type)                 Output Shape              Param #   \n",
      "=================================================================\n",
      "conv2d_12 (Conv2D)           (None, 60, 58, 32)        512       \n",
      "_________________________________________________________________\n",
      "max_pooling2d_12 (MaxPooling (None, 30, 58, 32)        0         \n",
      "_________________________________________________________________\n",
      "conv2d_13 (Conv2D)           (None, 26, 56, 64)        30784     \n",
      "_________________________________________________________________\n",
      "max_pooling2d_13 (MaxPooling (None, 13, 56, 64)        0         \n",
      "_________________________________________________________________\n",
      "conv2d_14 (Conv2D)           (None, 9, 54, 128)        123008    \n",
      "_________________________________________________________________\n",
      "max_pooling2d_14 (MaxPooling (None, 4, 54, 128)        0         \n",
      "_________________________________________________________________\n",
      "dropout_4 (Dropout)          (None, 4, 54, 128)        0         \n",
      "_________________________________________________________________\n",
      "flatten_4 (Flatten)          (None, 27648)             0         \n",
      "_________________________________________________________________\n",
      "dense_8 (Dense)              (None, 24)                663576    \n",
      "_________________________________________________________________\n",
      "dense_9 (Dense)              (None, 1)                 25        \n",
      "=================================================================\n",
      "Total params: 817,905\n",
      "Trainable params: 817,905\n",
      "Non-trainable params: 0\n",
      "_________________________________________________________________\n"
     ]
    }
   ],
   "source": [
    "model = tf.keras.Sequential([\n",
    "    tf.keras.layers.Conv2D(filters = 32, kernel_size = (5,3), input_shape = (64, 60, 1)),\n",
    "    tf.keras.layers.MaxPooling2D((2,1)),\n",
    "    tf.keras.layers.Conv2D(filters = 64, kernel_size = (5,3)),\n",
    "    tf.keras.layers.MaxPooling2D((2,1)),\n",
    "    tf.keras.layers.Conv2D(filters = 128, kernel_size = (5,3)),\n",
    "    tf.keras.layers.MaxPooling2D((2,1)),\n",
    "#     tf.keras.layers.Conv2D(filters = 64, kernel_size = (3,3)),\n",
    "#     tf.keras.layers.MaxPooling2D((2,1)),\n",
    "    tf.keras.layers.Dropout(0.5),\n",
    "    tf.keras.layers.Flatten(),\n",
    "    tf.keras.layers.Dense(24, activation='relu'),\n",
    "    tf.keras.layers.Dense(1, 'sigmoid')\n",
    "])\n",
    "\n",
    "model.compile(optimizer=tf.keras.optimizers.RMSprop(),\n",
    "              loss=tf.keras.losses.BinaryCrossentropy(),\n",
    "              metrics=['binary_accuracy'])\n",
    "\n",
    "model.summary()"
   ]
  },
  {
   "cell_type": "code",
   "execution_count": null,
   "id": "9108fc92",
   "metadata": {},
   "outputs": [
    {
     "name": "stdout",
     "output_type": "stream",
     "text": [
      "Epoch 1/100\n",
      "194/194 [==============================] - 3421s 18s/step - loss: 85.2255 - binary_accuracy: 0.5162 - val_loss: 0.6914 - val_binary_accuracy: 0.5418\n",
      "Epoch 2/100\n",
      "194/194 [==============================] - 3372s 17s/step - loss: 0.6926 - binary_accuracy: 0.5165 - val_loss: 0.6912 - val_binary_accuracy: 0.5418\n",
      "Epoch 3/100\n",
      "194/194 [==============================] - 3429s 18s/step - loss: 0.6928 - binary_accuracy: 0.5134 - val_loss: 0.6911 - val_binary_accuracy: 0.5418\n",
      "Epoch 4/100\n",
      "194/194 [==============================] - 3308s 17s/step - loss: 0.6927 - binary_accuracy: 0.5150 - val_loss: 0.6911 - val_binary_accuracy: 0.5418\n",
      "Epoch 5/100\n",
      "194/194 [==============================] - 3515s 18s/step - loss: 0.6927 - binary_accuracy: 0.5150 - val_loss: 0.6910 - val_binary_accuracy: 0.5418\n",
      "Epoch 6/100\n",
      "194/194 [==============================] - 3396s 18s/step - loss: 0.6926 - binary_accuracy: 0.5165 - val_loss: 0.6911 - val_binary_accuracy: 0.5418\n",
      "Epoch 7/100\n",
      "194/194 [==============================] - ETA: 0s - loss: 0.6927 - binary_accuracy: 0.5153 "
     ]
    }
   ],
   "source": [
    "history = model.fit(train_dataset, epochs=100, validation_data = test_dataset)"
   ]
  },
  {
   "cell_type": "code",
   "execution_count": 31,
   "id": "0b9c5a3c",
   "metadata": {},
   "outputs": [
    {
     "name": "stdout",
     "output_type": "stream",
     "text": [
      "0\n"
     ]
    },
    {
     "data": {
      "image/png": "[encoded data removed]",
      "text/plain": [
       "<Figure size 640x480 with 1 Axes>"
      ]
     },
     "metadata": {},
     "output_type": "display_data"
    },
    {
     "name": "stdout",
     "output_type": "stream",
     "text": [
      "1\n"
     ]
    },
    {
     "data": {
      "image/png": "[encoded data removed]",
      "text/plain": [
       "<Figure size 640x480 with 1 Axes>"
      ]
     },
     "metadata": {},
     "output_type": "display_data"
    },
    {
     "name": "stdout",
     "output_type": "stream",
     "text": [
      "2\n"
     ]
    },
    {
     "data": {
      "image/png": "[encoded data removed]",
      "text/plain": [
       "<Figure size 640x480 with 1 Axes>"
      ]
     },
     "metadata": {},
     "output_type": "display_data"
    },
    {
     "name": "stdout",
     "output_type": "stream",
     "text": [
      "3\n"
     ]
    },
    {
     "data": {
      "image/png": "[encoded data removed]",
      "text/plain": [
       "<Figure size 640x480 with 1 Axes>"
      ]
     },
     "metadata": {},
     "output_type": "display_data"
    },
    {
     "name": "stdout",
     "output_type": "stream",
     "text": [
      "4\n"
     ]
    },
    {
     "data": {
      "image/png": "[encoded data removed]",
      "text/plain": [
       "<Figure size 640x480 with 1 Axes>"
      ]
     },
     "metadata": {},
     "output_type": "display_data"
    }
   ],
   "source": [
    "from matplotlib import pyplot as plt\n",
    "for i in range(5):\n",
    "    print(i)\n",
    "    plt.imshow(images[i], cmap='gray')\n",
    "    plt.show()"
   ]
  },
  {
   "cell_type": "code",
   "execution_count": 13,
   "id": "7610bcef",
   "metadata": {},
   "outputs": [
    {
     "data": {
      "text/plain": [
       "67858"
      ]
     },
     "execution_count": 13,
     "metadata": {},
     "output_type": "execute_result"
    }
   ],
   "source": [
    "len(label_df)"
   ]
  },
  {
   "cell_type": "code",
   "execution_count": null,
   "id": "6717a151",
   "metadata": {},
   "outputs": [],
   "source": []
  }
 ],
 "metadata": {
  "kernelspec": {
   "display_name": "Python 3 (ipykernel)",
   "language": "python",
   "name": "python3"
  },
  "language_info": {
   "codemirror_mode": {
    "name": "ipython",
    "version": 3
   },
   "file_extension": ".py",
   "mimetype": "text/x-python",
   "name": "python",
   "nbconvert_exporter": "python",
   "pygments_lexer": "ipython3",
   "version": "3.8.10"
  }
 },
 "nbformat": 4,
 "nbformat_minor": 5
}
