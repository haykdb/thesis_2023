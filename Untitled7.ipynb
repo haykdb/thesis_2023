{
 "cells": [
  {
   "cell_type": "code",
   "execution_count": 3,
   "id": "9ff69d3b",
   "metadata": {},
   "outputs": [],
   "source": [
    "import torch\n",
    "import torchvision\n",
    "from torchvision import transforms\n",
    "from torchvision.datasets import ImageFolder\n",
    "\n",
    "\n",
    "#train and test data directory\n",
    "data_dir = r\"C:\\Users\\hayk.darbinyan\\codes\\my_Venvs\\_venv-310-jupyter\\Thesis\\Dataset\\Pics_60_60\\Train\"\n",
    "test_data_dir = r\"C:\\Users\\hayk.darbinyan\\codes\\my_Venvs\\_venv-310-jupyter\\Thesis\\Dataset\\Pics_60_60\\Val\"\n",
    "\n",
    "\n",
    "#load the train and test data\n",
    "dataset = ImageFolder(data_dir,transform = transforms.Compose([\n",
    "    transforms.Resize((64,60)),transforms.ToTensor()\n",
    "]))\n",
    "test_dataset = ImageFolder(test_data_dir,transforms.Compose([\n",
    "    transforms.Resize((64,60)),transforms.ToTensor()\n",
    "]))"
   ]
  },
  {
   "cell_type": "code",
   "execution_count": 4,
   "id": "72159973",
   "metadata": {},
   "outputs": [
    {
     "name": "stdout",
     "output_type": "stream",
     "text": [
      "torch.Size([3, 64, 60]) 0\n"
     ]
    }
   ],
   "source": [
    "img, label = dataset[0]\n",
    "print(img.shape,label)\n",
    "\n",
    "#output :\n",
    "#torch.Size([3, 150, 150]) "
   ]
  },
  {
   "cell_type": "code",
   "execution_count": null,
   "id": "2a8f051f",
   "metadata": {},
   "outputs": [],
   "source": []
  }
 ],
 "metadata": {
  "kernelspec": {
   "display_name": "Python 3 (ipykernel)",
   "language": "python",
   "name": "python3"
  },
  "language_info": {
   "codemirror_mode": {
    "name": "ipython",
    "version": 3
   },
   "file_extension": ".py",
   "mimetype": "text/x-python",
   "name": "python",
   "nbconvert_exporter": "python",
   "pygments_lexer": "ipython3",
   "version": "3.8.10"
  }
 },
 "nbformat": 4,
 "nbformat_minor": 5
}
